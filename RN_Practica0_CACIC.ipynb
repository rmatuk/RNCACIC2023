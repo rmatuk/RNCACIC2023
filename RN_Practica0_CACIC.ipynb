{
  "nbformat": 4,
  "nbformat_minor": 0,
  "metadata": {
    "colab": {
      "provenance": [],
      "include_colab_link": true
    },
    "kernelspec": {
      "name": "python3",
      "display_name": "Python 3"
    }
  },
  "cells": [
    {
      "cell_type": "markdown",
      "metadata": {
        "id": "view-in-github",
        "colab_type": "text"
      },
      "source": [
        "<a href=\"https://colab.research.google.com/github/rmatuk/RNCACIC2023/blob/main/RN_Practica0_CACIC.ipynb\" target=\"_parent\"><img src=\"https://colab.research.google.com/assets/colab-badge.svg\" alt=\"Open In Colab\"/></a>"
      ]
    },
    {
      "metadata": {
        "id": "6-VA1v4W5q1H"
      },
      "cell_type": "markdown",
      "source": [
        "# CACIC 2023\n",
        "# Tutorial Python & Numpy"
      ]
    },
    {
      "metadata": {
        "id": "8kXrQkBl5q1J"
      },
      "cell_type": "markdown",
      "source": [
        "**Introducción**\n",
        "\n",
        "Este tutorial es una introducción amigable al lenguaje de programación Python, y a la librería de procesamiento científico Numpy.\n",
        "\n",
        "**Para poder modificar y/o correr el código, desde su Google Colab, ábranlo en modo Playground, o hagan una copia de esta Jupyter Notebook a su Drive (File/Save a copy in Drive...). También si lo desean, pueden bajar el código de la Jupyter Notebook, y correrlo en forma local en sus computadoras, tras instalar Python, Numpy, Matplotlib, y Jupyter Notebook.**\n",
        "\n",
        "**Tareas:**\n",
        "\n",
        "* Leer el tutorial.\n",
        "* Hacer los ejercicios intercalados en el tutorial.\n",
        "* Modificar el código del tutorial, para experimentar con los ejemplos."
      ]
    },
    {
      "metadata": {
        "id": "ay9mgFSO5q1M"
      },
      "cell_type": "markdown",
      "source": [
        "##Introducción"
      ]
    },
    {
      "metadata": {
        "id": "fcfkw97U5q1N"
      },
      "cell_type": "markdown",
      "source": [
        "Python es un lenguaje de programación de propósito general, que posee algunas librerías (numpy, scipy, matplotlib) que lo hacen muy poderoso para su uso en computación científica.\n",
        "\n",
        "Para los que ya posean experiencia previa en Matlab, una página recomendable que también pueden consultar es: https://docs.scipy.org/doc/numpy-dev/user/numpy-for-matlab-users.html"
      ]
    },
    {
      "metadata": {
        "id": "qo36kJw25q1P"
      },
      "cell_type": "markdown",
      "source": [
        "En este tutorial, cubriremos los siguientes temas:\n",
        "\n",
        "* Python Básico: Tipos de datos básicos (Contenedores: Listas, Diccionarios, Conjuntos, Tuplas), Funciones, Clases\n",
        "* Numpy: Arrays, Indexado, Tipos de datos, Broadcasting\n",
        "* Matplotlib: Ploteo, Subplots, Imágenes"
      ]
    },
    {
      "metadata": {
        "id": "CV6OV42I5q1R"
      },
      "cell_type": "markdown",
      "source": [
        "##Conceptos básicos de Python"
      ]
    },
    {
      "metadata": {
        "id": "B9MacMaY5q1T"
      },
      "cell_type": "markdown",
      "source": [
        "Python es un lenguaje de programación de alto nivel, dinámicamente tipado. Frecuentemente se dice que el código en Python es casi como un *pseudocódigo*, ya que permite expresar ideas muy poderosas en muy pocas líneas de código, siendo al mismo tiempo muy legible. Como ejemplo, acá hay una implementación del clásico algortimo de quicksort en Python:\n",
        "\n",
        "**NOTA**: En IPython, el código en una celda se ejecuta cliqueando dentro de la celda, y presionando **Shift+Enter** al mismo tiempo."
      ]
    },
    {
      "metadata": {
        "id": "wpYJZksQ5q1W"
      },
      "cell_type": "code",
      "source": [
        "def quicksort(arr):\n",
        "    if len(arr) <= 1:\n",
        "        return arr\n",
        "    pivot = arr[len(arr) // 2]\n",
        "    left = [x for x in arr if x < pivot]\n",
        "    middle = [x for x in arr if x == pivot]\n",
        "    right = [x for x in arr if x > pivot]\n",
        "    return quicksort(left) + middle + quicksort(right)\n",
        "\n",
        "print(quicksort([3,6,8,10,1,2,1]))"
      ],
      "execution_count": null,
      "outputs": []
    },
    {
      "metadata": {
        "id": "LfhFbB8Z5q1i"
      },
      "cell_type": "markdown",
      "source": [
        "###Versiones de Python"
      ]
    },
    {
      "metadata": {
        "id": "cJCjzx7Y5q1k"
      },
      "cell_type": "markdown",
      "source": [
        "Actualmente hay dos versiones soportadas estables de Python, 2.7 y Python 3. Python 3.0 introdujo algunos cambios incompatibles con Python 2, y entonces algunos códigos escritos para 2.7 podrían no funcionar para 3, y viceversa. Para esta clase, usaremos Python 3.\n",
        "\n",
        "Para ver la versión de Python que está instalada en su computadora ejecutar en línea de comando `python --version`."
      ]
    },
    {
      "metadata": {
        "id": "-m-76MvqLOHl"
      },
      "cell_type": "markdown",
      "source": [
        "### Ejecutando línea de comando desde Jupyter Notebook"
      ]
    },
    {
      "metadata": {
        "id": "v-1TaPpsL2Jl"
      },
      "cell_type": "markdown",
      "source": [
        "En la interfaz web de Jupyter Notebook, para ejecutar y ver la salida de una instrucción a línea de comando de la computadora, anteponer el símbolo: !"
      ]
    },
    {
      "metadata": {
        "id": "rvNkG_0LMVUD"
      },
      "cell_type": "code",
      "source": [
        "# Muestra el directorio actual\n",
        "!pwd\n",
        "\n",
        "# TAREA: mostrar desde Jupyter la versión de Python que tiene instalado el sistema\n",
        "print(\"########### REEMPLAZAR POR TU CODIGO ############\")\n"
      ],
      "execution_count": null,
      "outputs": []
    },
    {
      "metadata": {
        "id": "sotHVM0t5q1l"
      },
      "cell_type": "markdown",
      "source": [
        "\n",
        "\n",
        "###Tipos de datos básicos"
      ]
    },
    {
      "metadata": {
        "id": "THkpPxwN5q1n"
      },
      "cell_type": "markdown",
      "source": [
        "####Números"
      ]
    },
    {
      "metadata": {
        "id": "f3xyLvxW5q1o"
      },
      "cell_type": "markdown",
      "source": [
        "Los enteros y los floats se comportan en la forma habitual de los lenguajes de programación:"
      ]
    },
    {
      "metadata": {
        "id": "bVYQAovh5q1q"
      },
      "cell_type": "code",
      "source": [
        "x = 3\n",
        "print (x, type(x))"
      ],
      "execution_count": null,
      "outputs": []
    },
    {
      "metadata": {
        "id": "dztfWsYU5q1y"
      },
      "cell_type": "code",
      "source": [
        "print (x + 1)   # Suma;\n",
        "print (x - 1)   # Resta;\n",
        "print (x * 2)   # Multiplicación;\n",
        "print (x ** 2)  # Exponencial;"
      ],
      "execution_count": null,
      "outputs": []
    },
    {
      "metadata": {
        "id": "gOmd8lBF5q16"
      },
      "cell_type": "code",
      "source": [
        "x += 1     # Incrementa la variable x en 1 y se la asigna a sí misma\n",
        "print (x)  # Imprime \"4\"\n",
        "x *= 2     # Duplica el valor de la variable x, y se la asigna a sí misma\n",
        "print (x)  # Imprime \"8\""
      ],
      "execution_count": null,
      "outputs": []
    },
    {
      "metadata": {
        "id": "g4NuhVfj5q2E"
      },
      "cell_type": "code",
      "source": [
        "y = 2.5\n",
        "print (type(y)) # Imprime el tipo de la variable, en este caso \"<type 'float'>\"\n",
        "print (y, y + 1, y * 2, y ** 2) # Imprime \"2.5 3.5 5.0 6.25\""
      ],
      "execution_count": null,
      "outputs": []
    },
    {
      "metadata": {
        "id": "6Pd6NV6YZcAR"
      },
      "cell_type": "code",
      "source": [
        "#TAREA: Crear la variable z, y asignarle el triple del valor de la suma de x más y.\n",
        "print(\"***********REEMPLAZAR POR TU CODIGO*************\")"
      ],
      "execution_count": null,
      "outputs": []
    },
    {
      "metadata": {
        "id": "we75WUci5q2O"
      },
      "cell_type": "markdown",
      "source": [
        "Notar que a diferencia de otros lenguajes, Python no tiene los operadores unarios de incremento (x++) o decremento (x--).\n",
        "\n",
        "Python tiene también tipos para enteros long y números complejos; puede encontrar los detalles en [documentacion](https://docs.python.org/2/library/stdtypes.html#numeric-types-int-float-long-complex)."
      ]
    },
    {
      "metadata": {
        "id": "uUl_bk835q2P"
      },
      "cell_type": "markdown",
      "source": [
        "####Booleanos"
      ]
    },
    {
      "metadata": {
        "id": "rgeh2qDx5q2Q"
      },
      "cell_type": "markdown",
      "source": [
        "Python implementa todos los operadores usuales de la lógica booleana, pero usa palabras en inglés en lugar de los símbolos (`&&`, `||`, etc.):"
      ]
    },
    {
      "metadata": {
        "id": "yo6wobrY5q2R"
      },
      "cell_type": "code",
      "source": [
        "t, f = True, False\n",
        "print (type(t)) # Imprime \"<type 'bool'>\""
      ],
      "execution_count": null,
      "outputs": []
    },
    {
      "metadata": {
        "id": "zsBdYsbJ5q2Z"
      },
      "cell_type": "markdown",
      "source": [
        "Ahora veamos algunas operaciones:"
      ]
    },
    {
      "metadata": {
        "id": "BNVhsasL5q2c"
      },
      "cell_type": "code",
      "source": [
        "print (t and f) # Logical AND;\n",
        "print (t or f)  # Logical OR;\n",
        "print (not t)   # Logical NOT;\n",
        "print (t != f)  # Logical XOR;"
      ],
      "execution_count": null,
      "outputs": []
    },
    {
      "metadata": {
        "id": "jWt1jbF75q2j"
      },
      "cell_type": "markdown",
      "source": [
        "####Strings"
      ]
    },
    {
      "metadata": {
        "id": "uyldbWX75q2k"
      },
      "cell_type": "code",
      "source": [
        "hello = 'hello'   # Los strings pueden usar comillas simples\n",
        "world = \"world\"   # o dobles\n",
        "print (hello, len(hello))"
      ],
      "execution_count": null,
      "outputs": []
    },
    {
      "metadata": {
        "id": "69vTXT6m5q2p"
      },
      "cell_type": "code",
      "source": [
        "hw = hello + ' ' + world  # Concatenación de strings\n",
        "print (hw)  # imprime \"hello world\""
      ],
      "execution_count": null,
      "outputs": []
    },
    {
      "metadata": {
        "id": "KPvy1sbJ5q2u"
      },
      "cell_type": "code",
      "source": [
        "hw12 = ('%s %s %d' % (hello, world, 12))  # Formateando la salida\n",
        "print (hw12)  # imprime \"hello world 12\""
      ],
      "execution_count": null,
      "outputs": []
    },
    {
      "metadata": {
        "id": "Q-xLTBCM5q2y"
      },
      "cell_type": "markdown",
      "source": [
        "Los strings tienen algunas funciones útiles; por ejemplo:"
      ]
    },
    {
      "metadata": {
        "id": "5tMbkHM65q20"
      },
      "cell_type": "code",
      "source": [
        "s = \"hello\"\n",
        "print (s.capitalize())  # Pone la primera letra mayúscula; imprime \"Hello\"\n",
        "print (s.upper())       # Convierte un string a todas mayúsculas; imprime \"HELLO\"\n",
        "print (s.rjust(7))      # Alinea a la derecha un string; imprime \"  hello\"\n",
        "print (s.center(7))     # Alinea al centro un string; imprime \" hello \"\n",
        "print (s.replace('l', '(ell)'))  # Reemplaza todas las instancias de un substring con otro;\n",
        "                               # imprime \"he(ell)(ell)o\"\n",
        "print ('  world '.strip())  # Quita los espacios en blanco al inicio y al final del string; imprime \"world\""
      ],
      "execution_count": null,
      "outputs": []
    },
    {
      "metadata": {
        "id": "7iVAp_Hm5q24"
      },
      "cell_type": "markdown",
      "source": [
        "Puede encontrar una lista de todos los métodos para los strings en la [documentación](https://docs.python.org/2/library/stdtypes.html#string-methods)."
      ]
    },
    {
      "metadata": {
        "id": "jHCAFmb95q25"
      },
      "cell_type": "markdown",
      "source": [
        "###Containers"
      ]
    },
    {
      "metadata": {
        "id": "-PerHSky5q25"
      },
      "cell_type": "markdown",
      "source": [
        "Python incluye varios tipos container: listas, diccionarios, conjuntos y tuplas."
      ]
    },
    {
      "metadata": {
        "id": "f9BNPsMT5q27"
      },
      "cell_type": "markdown",
      "source": [
        "####Listas"
      ]
    },
    {
      "metadata": {
        "id": "ipDjlY6S5q28"
      },
      "cell_type": "markdown",
      "source": [
        "Una lista es el equivalente Python de un array, pero puede cambiar de tamaño y puede contener elementos de diferentes tipos:"
      ]
    },
    {
      "metadata": {
        "id": "4_TQGb2i5q29"
      },
      "cell_type": "code",
      "source": [
        "xs = [3, 1, 2]   # Crea una lista\n",
        "print (xs, xs[2])\n",
        "print (xs[-1])     # Los índices negativos cuentan desde el fin de la lista; imprime \"2\""
      ],
      "execution_count": null,
      "outputs": []
    },
    {
      "metadata": {
        "id": "aqoDqKcQ5q3A"
      },
      "cell_type": "code",
      "source": [
        "xs[2] = 'foo'    # Listas pueden contener elementos de diferentes tipos\n",
        "print (xs)"
      ],
      "execution_count": null,
      "outputs": []
    },
    {
      "metadata": {
        "id": "WrloXM9J5q3G"
      },
      "cell_type": "code",
      "source": [
        "xs.append('bar') # Agrega un elemento nuevo al final de la lista\n",
        "print (xs)"
      ],
      "execution_count": null,
      "outputs": []
    },
    {
      "metadata": {
        "id": "EkQ9BNzz5q3J"
      },
      "cell_type": "code",
      "source": [
        "x = xs.pop()     # Remueve and devuelve el último elemento de la lista\n",
        "print (x, xs)"
      ],
      "execution_count": null,
      "outputs": []
    },
    {
      "metadata": {
        "id": "wTDsbYOh5q3N"
      },
      "cell_type": "markdown",
      "source": [
        "Pueden consultar más detalles acerca de las listas en la [documentación](https://docs.python.org/2/tutorial/datastructures.html#more-on-lists)."
      ]
    },
    {
      "metadata": {
        "id": "OwN1QfB25q3P"
      },
      "cell_type": "markdown",
      "source": [
        "####Slicing"
      ]
    },
    {
      "metadata": {
        "id": "jcMqNrgu5q3Q"
      },
      "cell_type": "markdown",
      "source": [
        "Además de acceder un elemento de la lista por vez, en Python se pueden acceder a sublistas de la lista; esto se conoce como slicing:"
      ]
    },
    {
      "metadata": {
        "id": "wwZ6SA-L5q3Q"
      },
      "cell_type": "code",
      "source": [
        "nums = range(5)    # range is una función que crea un rango de enteros de cero a n-1.\n",
        "print (type(nums))\n",
        "nums = list(nums) # Llamamos a list para convertir el tipo range a tipo lista, lo que se conoce como \"casting\".\n",
        "print (type(nums))\n",
        "print (nums)         # Imprime \"[0, 1, 2, 3, 4]\"\n",
        "print (nums[2:4])    # Devuelve una sublista desde el índice 2 al 4 (exclusivo); imprime \"[2, 3]\"\n",
        "print (nums[2:])     # Devuelve una sublista desde el índice 2 hasta el final; imprime \"[2, 3, 4]\"\n",
        "print (nums[:2])     # Devuelve una sublista desde el comienzo al índice 2 (exclusivo); imprime \"[0, 1]\"\n",
        "print (nums[:])      # Devuelve una sublista de toda la lista: imprime \"[0, 1, 2, 3, 4]\"\n",
        "print (nums[:-1])    # Los índices de una sublista pueden ser negativos; imprime \"[0, 1, 2, 3]\"\n",
        "nums[2:4] = [8, 9] # Asigna nuevos valores al slice\n",
        "print (nums)         # Imprime \"[0, 1, 8, 8, 4]\""
      ],
      "execution_count": null,
      "outputs": []
    },
    {
      "metadata": {
        "id": "5xiRdmop5q3V"
      },
      "cell_type": "markdown",
      "source": [
        "####Loops"
      ]
    },
    {
      "metadata": {
        "id": "W4aIykm35q3W"
      },
      "cell_type": "markdown",
      "source": [
        "Se puede hacer un ciclo (loop) sobre los elementos de una lista de esta forma:"
      ]
    },
    {
      "metadata": {
        "id": "DzPkWoQU5q3X"
      },
      "cell_type": "code",
      "source": [
        "animals = ['cat', 'dog', 'monkey']\n",
        "for animal in animals:\n",
        "    print (animal)"
      ],
      "execution_count": null,
      "outputs": []
    },
    {
      "metadata": {
        "id": "SfjRY7oh5q3c"
      },
      "cell_type": "markdown",
      "source": [
        "Para acceder al índice de cada elemento dentro del cuerpo del loop, se usa la función `enumerate`:"
      ]
    },
    {
      "metadata": {
        "id": "KHfWh7cm5q3d"
      },
      "cell_type": "code",
      "source": [
        "animals = ['cat', 'dog', 'monkey']\n",
        "for idx, animal in enumerate(animals):\n",
        "    print ('#%d: %s' % (idx + 1, animal))"
      ],
      "execution_count": null,
      "outputs": []
    },
    {
      "metadata": {
        "id": "GbMrJih65q3f"
      },
      "cell_type": "markdown",
      "source": [
        "####Listas por comprensión:"
      ]
    },
    {
      "metadata": {
        "id": "uEw19H_q5q3g"
      },
      "cell_type": "markdown",
      "source": [
        "Considere el siguiente ejemplo, que computa números al cuadrado:"
      ]
    },
    {
      "metadata": {
        "id": "q3nPnpPE5q3h"
      },
      "cell_type": "code",
      "source": [
        "nums = [0, 1, 2, 3, 4]\n",
        "squares = []\n",
        "for x in nums:\n",
        "    squares.append(x ** 2)\n",
        "print (squares)"
      ],
      "execution_count": null,
      "outputs": []
    },
    {
      "metadata": {
        "id": "uSsysiX95q3k"
      },
      "cell_type": "markdown",
      "source": [
        "Podemos hacer más simple este código usando definición de listas por comprensión:"
      ]
    },
    {
      "metadata": {
        "id": "k4ezY_Vn5q3l"
      },
      "cell_type": "code",
      "source": [
        "nums = [0, 1, 2, 3, 4]\n",
        "squares = [x ** 2 for x in nums]\n",
        "print (squares)"
      ],
      "execution_count": null,
      "outputs": []
    },
    {
      "metadata": {
        "id": "2r-xDQrV5q3p"
      },
      "cell_type": "markdown",
      "source": [
        "Las listas por comprensión también pueden tener condiciones:"
      ]
    },
    {
      "metadata": {
        "id": "FuceJKWp5q3q"
      },
      "cell_type": "code",
      "source": [
        "nums = [0, 1, 2, 3, 4]\n",
        "even_squares = [x ** 2 for x in nums if x % 2 == 0]\n",
        "print (even_squares)"
      ],
      "execution_count": null,
      "outputs": []
    },
    {
      "metadata": {
        "id": "Zn9lPGuA5q3t"
      },
      "cell_type": "markdown",
      "source": [
        "####Diccionarios"
      ]
    },
    {
      "metadata": {
        "id": "qR4dwMJ15q3t"
      },
      "cell_type": "markdown",
      "source": [
        "Un diccionario almacena pares (clave, valor) pairs, en forma similar a un `Map` en Java o a un objecto en Javascript. Por ejemplo:"
      ]
    },
    {
      "metadata": {
        "id": "XSqsRxER5q3u"
      },
      "cell_type": "code",
      "source": [
        "d = {'cat': 'cute', 'dog': 'furry'}  # Crea un diccionario nuevo con algunos datos\n",
        "print (d['cat'])       # Toma una entrada de un diccionario; imprime \"cute\"\n",
        "print ('cat' in d)     # Chequea si el diccionario tiene la clave dada; imprime \"True\""
      ],
      "execution_count": null,
      "outputs": []
    },
    {
      "metadata": {
        "id": "6-fyFvpe5q3w"
      },
      "cell_type": "code",
      "source": [
        "d['fish'] = 'wet'    # Setea una entrada en un diccionario\n",
        "print (d['fish'])      # Imprime \"wet\""
      ],
      "execution_count": null,
      "outputs": []
    },
    {
      "metadata": {
        "id": "cqFipdSW5q3z"
      },
      "cell_type": "code",
      "source": [
        "print (d['monkey'])  # KeyError: 'monkey' no es una clave de d"
      ],
      "execution_count": null,
      "outputs": []
    },
    {
      "metadata": {
        "id": "mqwjq1JB5q32"
      },
      "cell_type": "code",
      "source": [
        "print (d.get('monkey', 'N/A'))  # Toma un elemento con un default; imprime \"N/A\"\n",
        "print (d.get('fish', 'N/A'))    # Toma un elemento con un default; imprime \"wet\""
      ],
      "execution_count": null,
      "outputs": []
    },
    {
      "metadata": {
        "id": "JSBfW9cM5q35"
      },
      "cell_type": "code",
      "source": [
        "del d['fish']        # Remueve un elemento de un diccionario\n",
        "print (d.get('fish', 'N/A')) # \"fish\" no es más una clave de d; imprime \"N/A\""
      ],
      "execution_count": null,
      "outputs": []
    },
    {
      "metadata": {
        "id": "pJKwvNbN5q3-"
      },
      "cell_type": "markdown",
      "source": [
        "Podés encontrar toda la información acerca de los diccionarios en la [documentación](https://docs.python.org/2/library/stdtypes.html#dict)."
      ]
    },
    {
      "metadata": {
        "id": "39GhDg_S5q3_"
      },
      "cell_type": "markdown",
      "source": [
        "Es fácil iterar sobre las claves de un diccionario:"
      ]
    },
    {
      "metadata": {
        "id": "AGUsSd285q4A"
      },
      "cell_type": "code",
      "source": [
        "d = {'person': 2, 'cat': 4, 'spider': 8}\n",
        "for animal in d:\n",
        "    legs = d[animal]\n",
        "    print ('A %s has %d legs' % (animal, legs))"
      ],
      "execution_count": null,
      "outputs": []
    },
    {
      "metadata": {
        "id": "USWlJ1Uh5q4D"
      },
      "cell_type": "markdown",
      "source": [
        "Para acceder a las claves y sus valores correspondientes, usar el método items:"
      ]
    },
    {
      "metadata": {
        "id": "ksXilYJx5q4E"
      },
      "cell_type": "code",
      "source": [
        "d = {'person': 2, 'cat': 4, 'spider': 8}\n",
        "for animal, legs in d.items():\n",
        "    print ('A %s has %d legs' % (animal, legs))"
      ],
      "execution_count": null,
      "outputs": []
    },
    {
      "metadata": {
        "id": "41-CY-Pz5q4G"
      },
      "cell_type": "markdown",
      "source": [
        "Diccionarios por comprensión: Similar a las listas por comprensión, pero para definir diccionarios. Por ejemplo:"
      ]
    },
    {
      "metadata": {
        "id": "BrEgZHHq5q4I"
      },
      "cell_type": "code",
      "source": [
        "nums = [0, 1, 2, 3, 4]\n",
        "even_num_to_square = {x: x ** 2 for x in nums if x % 2 == 0}\n",
        "print (even_num_to_square)"
      ],
      "execution_count": null,
      "outputs": []
    },
    {
      "metadata": {
        "id": "tDD47vMB5q4L"
      },
      "cell_type": "markdown",
      "source": [
        "####Conjuntos (Sets)"
      ]
    },
    {
      "metadata": {
        "id": "GA8eU1aU5q4M"
      },
      "cell_type": "markdown",
      "source": [
        "Un conjunto es una colección de elementos distintos sin ningún orden. Por ejemplo:"
      ]
    },
    {
      "metadata": {
        "id": "bqrfOvL85q4O"
      },
      "cell_type": "code",
      "source": [
        "animals = {'cat', 'dog'}\n",
        "print ('cat' in animals)   # Chequea si un elemento está en un conjunto; imprime \"True\"\n",
        "print ('fish' in animals)  # imprime \"False\"\n"
      ],
      "execution_count": null,
      "outputs": []
    },
    {
      "metadata": {
        "id": "iBoumJBc5q4S"
      },
      "cell_type": "code",
      "source": [
        "animals.add('fish')      # Agrega un elemento a un conjunto\n",
        "print ('fish' in animals)\n",
        "print (len(animals))       # Numero de elementos en un conjunto"
      ],
      "execution_count": null,
      "outputs": []
    },
    {
      "metadata": {
        "id": "4WOQYagQ5q4W"
      },
      "cell_type": "code",
      "source": [
        "animals.add('cat')       # Agregar al conjunto un elemento que ya está en él, no hace nada\n",
        "print (len(animals))\n",
        "animals.remove('cat')    # Remueve un elemento de un conjunto\n",
        "print (len(animals))"
      ],
      "execution_count": null,
      "outputs": []
    },
    {
      "metadata": {
        "id": "hq0u2OQT5q4b"
      },
      "cell_type": "markdown",
      "source": [
        "_Loops_: Iterar sobre un conjunto tiene la misma sintaxis que sobre una lista; sin embargo, como los conjuntos no tienen orden, no se puede saber el orden en el cuál se visitarán los elementos del conjunto:"
      ]
    },
    {
      "metadata": {
        "id": "0UFyLDm55q4c"
      },
      "cell_type": "code",
      "source": [
        "animals = {'cat', 'dog', 'fish'}\n",
        "for idx, animal in enumerate(animals):\n",
        "    print ('#%d: %s' % (idx + 1, animal))"
      ],
      "execution_count": null,
      "outputs": []
    },
    {
      "metadata": {
        "id": "27txGVy95q4g"
      },
      "cell_type": "markdown",
      "source": [
        "Definición de conjuntos por comprensión:"
      ]
    },
    {
      "metadata": {
        "id": "Z8HkXcfM5q4h"
      },
      "cell_type": "code",
      "source": [
        "from math import sqrt\n",
        "print ({int(sqrt(x)) for x in range(30)})"
      ],
      "execution_count": null,
      "outputs": []
    },
    {
      "metadata": {
        "id": "fL0UctlO5q4j"
      },
      "cell_type": "markdown",
      "source": [
        "####Tuplas"
      ]
    },
    {
      "metadata": {
        "id": "iezj80Mu5q4j"
      },
      "cell_type": "markdown",
      "source": [
        "Una tupla es una lista inmodificable de valores. Las tuplas son similares a las listas, pero al ser inmutables, las tuplas pueden ser usadas como claves en los diccionarios, mientras que las listas no. Ejemplo:\n",
        "\n"
      ]
    },
    {
      "metadata": {
        "id": "mdEyq1hC5q4k"
      },
      "cell_type": "code",
      "source": [
        "d = {(x, x + 1): x for x in range(10)}  # Crea un diccionario con claves tuplas\n",
        "t = (5, 6)       # Crea una tupla\n",
        "print (type(t))\n",
        "print (d[t])\n",
        "print (d[(1, 2)])"
      ],
      "execution_count": null,
      "outputs": []
    },
    {
      "metadata": {
        "id": "QTbRg_s75q4n"
      },
      "cell_type": "code",
      "source": [
        "t[0] = 1"
      ],
      "execution_count": null,
      "outputs": []
    },
    {
      "metadata": {
        "id": "w1VXSG2s5q4q"
      },
      "cell_type": "markdown",
      "source": [
        "###Funciones"
      ]
    },
    {
      "metadata": {
        "id": "-4lAKLDY5q4r"
      },
      "cell_type": "markdown",
      "source": [
        "En Python, las funciones son definidas usando la keyword `def`. Por ejemplo:"
      ]
    },
    {
      "metadata": {
        "id": "oysjtHVh5q4s"
      },
      "cell_type": "code",
      "source": [
        "def sign(x):\n",
        "    if x > 0:\n",
        "        return 'positive'\n",
        "    elif x < 0:\n",
        "        return 'negative'\n",
        "    else:\n",
        "        return 'zero'\n",
        "\n",
        "for x in [-1, 0, 1]:\n",
        "    print (sign(x))"
      ],
      "execution_count": null,
      "outputs": []
    },
    {
      "metadata": {
        "id": "YhQkNfyd5q4x"
      },
      "cell_type": "markdown",
      "source": [
        "Frecuentemente se necesitan definir funciones que tomen argumentos opcionales. Ejemplo:"
      ]
    },
    {
      "metadata": {
        "id": "TH04kWxK5q4y"
      },
      "cell_type": "code",
      "source": [
        "def hello(name, loud=False):\n",
        "    if loud:\n",
        "        print ('HELLO, %s' % name.upper())\n",
        "    else:\n",
        "        print ('Hello, %s!' % name)\n",
        "\n",
        "hello('Bob')\n",
        "hello('Fred', loud=True)"
      ],
      "execution_count": null,
      "outputs": []
    },
    {
      "metadata": {
        "id": "Xvw1X4q25q42"
      },
      "cell_type": "markdown",
      "source": [
        "###Clases"
      ]
    },
    {
      "metadata": {
        "id": "5ungbMSi5q42"
      },
      "cell_type": "markdown",
      "source": [
        "La sintaxis para definir clases en Python es la siguiente:"
      ]
    },
    {
      "metadata": {
        "id": "P6H_HlXX5q42"
      },
      "cell_type": "code",
      "source": [
        "class Greeter:\n",
        "\n",
        "    # Constructor\n",
        "    def __init__(self, name):\n",
        "        self.name = name  # Crea una instancia de la variable\n",
        "\n",
        "    # Un método de la clase\n",
        "    def greet(self, loud=False):\n",
        "        if loud:\n",
        "            print ('HELLO, %s!' % self.name.upper())\n",
        "        else:\n",
        "            print ('Hello, %s' % self.name)\n",
        "\n",
        "g = Greeter('Fred')  # Construye una instancia de la clase Greeter\n",
        "g.greet()            # Llama al método de la clase; imprime \"Hello, Fred\"\n",
        "g.greet(loud=True)   # Llama al método de la clase; imprime \"HELLO, FRED!\""
      ],
      "execution_count": null,
      "outputs": []
    },
    {
      "metadata": {
        "id": "HC8PPoa55q44"
      },
      "cell_type": "markdown",
      "source": [
        "##Numpy"
      ]
    },
    {
      "metadata": {
        "id": "icQHJIvK5q45"
      },
      "cell_type": "markdown",
      "source": [
        "Numpy es la librería central para cómputo científico en Python (ver la documentación en [referencia](https://docs.scipy.org/doc/numpy-1.14.0/reference/)). Provee arrays multidimensionales de alta performance, y herramientas para trabajar con estos arrays. Para los que saben MATLAB, les puede ser útil este [tutorial](http://wiki.scipy.org/NumPy_for_Matlab_Users) para empezar con Numpy."
      ]
    },
    {
      "metadata": {
        "id": "PNXqmeC45q46"
      },
      "cell_type": "markdown",
      "source": [
        "Para utilizar Numpy, lo primero que debemos hacer es importar el paquete `numpy`:"
      ]
    },
    {
      "metadata": {
        "id": "nwFkFb_d5q47"
      },
      "cell_type": "code",
      "source": [
        "import numpy as np"
      ],
      "execution_count": null,
      "outputs": []
    },
    {
      "metadata": {
        "id": "oEMc8JJP5q4-"
      },
      "cell_type": "markdown",
      "source": [
        "###Arrays"
      ]
    },
    {
      "metadata": {
        "id": "qY5T4B_55q4_"
      },
      "cell_type": "markdown",
      "source": [
        "Un arreglo en numpy es una grilla de valores, todos del mismo tipo, y que está indexada por una tupla de enteros no negativos. El número de dimensiones es el rango del array; la forma del array es una tupla de enteros que nos da el tamaño del array a lo largo de cada dimensión."
      ]
    },
    {
      "metadata": {
        "id": "ujIKsN7n5q4_"
      },
      "cell_type": "markdown",
      "source": [
        "Podemos inicializar numpy arrays con listas anidadas de Python, y acceder a sus elementos usando llaves cuadradas ([]):"
      ]
    },
    {
      "metadata": {
        "id": "2T4S0Y8_5q5A"
      },
      "cell_type": "code",
      "source": [
        "a = np.array([1, 2, 3])  # Crea un array de rango 1\n",
        "print (type(a), a.shape, a[0], a[1], a[2])\n",
        "a[0] = 5                 # Cambia un elemento del array\n",
        "print (a)"
      ],
      "execution_count": null,
      "outputs": []
    },
    {
      "metadata": {
        "id": "Cxp0IQI_5q5D"
      },
      "cell_type": "code",
      "source": [
        "b = np.array([[1,2,3],[4,5,6]])   # Crea un array de rango 2\n",
        "print (b)"
      ],
      "execution_count": null,
      "outputs": []
    },
    {
      "metadata": {
        "id": "NC7ntYGk5q5E"
      },
      "cell_type": "code",
      "source": [
        "print (b.shape)\n",
        "print (b[0, 0], b[0, 1], b[1, 0])"
      ],
      "execution_count": null,
      "outputs": []
    },
    {
      "metadata": {
        "id": "XVEgPUy45q5H"
      },
      "cell_type": "markdown",
      "source": [
        "Numpy tiene además muchas funciones para crear arrays:"
      ]
    },
    {
      "metadata": {
        "id": "J6asuT0G5q5H"
      },
      "cell_type": "code",
      "source": [
        "a = np.zeros((2,2))  # Crea an array de todos ceros\n",
        "print (a)"
      ],
      "execution_count": null,
      "outputs": []
    },
    {
      "metadata": {
        "id": "No4YcRSX5q5J"
      },
      "cell_type": "code",
      "source": [
        "b = np.ones((1,2))   # Crea un array de todos unos\n",
        "print (b)"
      ],
      "execution_count": null,
      "outputs": []
    },
    {
      "metadata": {
        "id": "arHMvOhi5q5L"
      },
      "cell_type": "code",
      "source": [
        "c = np.full((2,2), 7) # Crea un array de valores constantes\n",
        "print (c)"
      ],
      "execution_count": null,
      "outputs": []
    },
    {
      "metadata": {
        "id": "BVuZ89NW5q5M"
      },
      "cell_type": "code",
      "source": [
        "d = np.eye(2)        # Crea una matrix identidad de 2x2\n",
        "print (d)"
      ],
      "execution_count": null,
      "outputs": []
    },
    {
      "metadata": {
        "id": "tY58UMFk5q5P"
      },
      "cell_type": "code",
      "source": [
        "e = np.random.random((2,2)) # Crea un array de valores random\n",
        "print (e)"
      ],
      "execution_count": null,
      "outputs": []
    },
    {
      "metadata": {
        "id": "Cm1XbIVO5q5Q"
      },
      "cell_type": "markdown",
      "source": [
        "###Array indexing"
      ]
    },
    {
      "metadata": {
        "id": "pPuZbM_Z5q5R"
      },
      "cell_type": "markdown",
      "source": [
        "Numpy nos ofrece varias formas de indexar arrays."
      ]
    },
    {
      "metadata": {
        "id": "NHei_ely5q5R"
      },
      "cell_type": "markdown",
      "source": [
        "Slicing: Como las listas en Python, los numpy arrays puede ser sliced. Como los arrays son multidimensionales, se debe especificar un slice para cada dimensión del array:"
      ]
    },
    {
      "metadata": {
        "id": "CFp3nn085q5R"
      },
      "cell_type": "code",
      "source": [
        "import numpy as np\n",
        "\n",
        "# Crea el siguiente array de rango 2 con dimensiones (3, 4)\n",
        "# [[ 1  2  3  4]\n",
        "#  [ 5  6  7  8]\n",
        "#  [ 9 10 11 12]]\n",
        "a = np.array([[1,2,3,4], [5,6,7,8], [9,10,11,12]])\n",
        "\n",
        "# Usa slicing para extraer el subarray consistente de las dos primeras filas\n",
        "# y las columnas 1 y 2; b es el siguiente array de dimensión (2, 2):\n",
        "# [[2 3]\n",
        "#  [6 7]]\n",
        "b = a[:2, 1:3]\n",
        "print (b)"
      ],
      "execution_count": null,
      "outputs": []
    },
    {
      "metadata": {
        "id": "21E__llI5q5T"
      },
      "cell_type": "markdown",
      "source": [
        "Atención: Un slice de un array es una vista a posiciones en memoria de los datos originales, y si modificamos el slice, modificamos los datos del array original."
      ]
    },
    {
      "metadata": {
        "id": "5G-xCH_n5q5T"
      },
      "cell_type": "code",
      "source": [
        "print (a[0, 1])\n",
        "b[0, 0] = 77    # b[0, 0] apunta a la misma posición en memoria que a[0, 1]\n",
        "print (a[0, 1])"
      ],
      "execution_count": null,
      "outputs": []
    },
    {
      "metadata": {
        "id": "7YnhuQqw5q5V"
      },
      "cell_type": "markdown",
      "source": [
        "Podés mezclar integer indexing con slice indexing. Sin embargo, esto nos dará un array de menor rango que el array original."
      ]
    },
    {
      "metadata": {
        "id": "P3l4gKyp5q5X"
      },
      "cell_type": "code",
      "source": [
        "# Crea un array de rango 2 array de forma (3, 4)\n",
        "a = np.array([[1,2,3,4], [5,6,7,8], [9,10,11,12]])\n",
        "print (a)"
      ],
      "execution_count": null,
      "outputs": []
    },
    {
      "metadata": {
        "id": "abW3Kruq5q5Z"
      },
      "cell_type": "markdown",
      "source": [
        "Dos formas de acceder a los datos en la fila media del array.\n",
        "Mezclar integer indexing con slices produce un array de menor rango, mientras que usar solo slices produce un array del mismo rango que el array original:"
      ]
    },
    {
      "metadata": {
        "id": "VtPRP0Gi5q5a"
      },
      "cell_type": "code",
      "source": [
        "row_r1 = a[1, :]    # Vista Rango 1 de la segunda fila de a\n",
        "row_r2 = a[1:2, :]  # Vista Rango 2 de la segunda fila de a\n",
        "row_r3 = a[[1], :]  # Vista Rango 2 de la segunda fila de a\n",
        "print (row_r1, row_r1.shape)\n",
        "print (row_r2, row_r2.shape)\n",
        "print (row_r3, row_r3.shape)"
      ],
      "execution_count": null,
      "outputs": []
    },
    {
      "metadata": {
        "id": "eTCT0bct5q5c"
      },
      "cell_type": "code",
      "source": [
        "# Ejemplo accediendo a las columnas del array:\n",
        "col_r1 = a[:, 1]\n",
        "col_r2 = a[:, 1:2]\n",
        "print (col_r1, col_r1.shape)\n",
        "\n",
        "print (col_r2, col_r2.shape)"
      ],
      "execution_count": null,
      "outputs": []
    },
    {
      "metadata": {
        "id": "scGrCnbk5q5h"
      },
      "cell_type": "markdown",
      "source": [
        "Integer array indexing: Cuando se indexa los numpy arrays usando slicing, el array resultante será siempre un subarray del array original. Por el contrario, usar integer indexing permite construir arrays arbitrarios usando datos de otro array. Ejemplo:"
      ]
    },
    {
      "metadata": {
        "id": "CcvqvKKx5q5i"
      },
      "cell_type": "code",
      "source": [
        "import numpy as np\n",
        "\n",
        "a = np.array([[1,2], [3, 4], [5, 6]])\n",
        "\n",
        "# Un ejemplo de integer array indexing.\n",
        "# El array resultado tiene forma (3,)\n",
        "int_idx1 = a[[0, 1, 2], [0, 1, 0]]\n",
        "print (int_idx1, int_idx1.shape)\n",
        "\n",
        "# El ejemplo anterior es equivalente al siguiente:\n",
        "int_idx2 = np.array([a[0, 0], a[1, 1], a[2, 0]])\n",
        "print (int_idx2, int_idx2.shape)"
      ],
      "execution_count": null,
      "outputs": []
    },
    {
      "metadata": {
        "id": "Y4HIfrq05q5l"
      },
      "cell_type": "code",
      "source": [
        "# Cuando se usa integer array indexing, se puede reusar el mismo\n",
        "# elemento del array fuente:\n",
        "print (a[[0, 0], [1, 1]])\n",
        "\n",
        "# Equivalente al ejemplo anterior\n",
        "print (np.array([a[0, 1], a[0, 1]]))"
      ],
      "execution_count": null,
      "outputs": []
    },
    {
      "metadata": {
        "id": "7p8DhBFQ5q5q"
      },
      "cell_type": "markdown",
      "source": [
        "Integer array indexing también es útil para seleccionar o mutar un elemento de cada fila de una matriz:"
      ]
    },
    {
      "metadata": {
        "id": "d8AJ849O5q5r"
      },
      "cell_type": "code",
      "source": [
        "# Crea un array nuevo\n",
        "a = np.array([[1,2,3], [4,5,6], [7,8,9], [10, 11, 12]])\n",
        "print (a)"
      ],
      "execution_count": null,
      "outputs": []
    },
    {
      "metadata": {
        "id": "QnezokHy5q5s"
      },
      "cell_type": "code",
      "source": [
        "# Crea un array de indices\n",
        "b = np.array([0, 2, 0, 1])\n",
        "\n",
        "# Selecciona un elemento de cada fila de a usando los índices en b\n",
        "print (a[np.arange(4), b])  # Imprime \"[ 1  6  7 11]\""
      ],
      "execution_count": null,
      "outputs": []
    },
    {
      "metadata": {
        "id": "_iXO2tyM5q5u"
      },
      "cell_type": "code",
      "source": [
        "# Muta un elemento de cada fila de a usando los índices en b\n",
        "a[np.arange(4), b] += 10\n",
        "print (a)"
      ],
      "execution_count": null,
      "outputs": []
    },
    {
      "metadata": {
        "id": "LkKSUFId5q5x"
      },
      "cell_type": "markdown",
      "source": [
        "También se pueden seleccionar elementos de un array que satisfagan ciertas condiciones lógicas. Ejemplo:"
      ]
    },
    {
      "metadata": {
        "id": "Z8SEDQTu5q5x"
      },
      "cell_type": "code",
      "source": [
        "a = np.array([[1,2], [3, 4], [5, 6]])\n",
        "\n",
        "bool_idx = (a > 2)  # Encuentra los elementos de a que son más grandes que 2;\n",
        "                    # returna un array numpy de Booleanos de la misma forma\n",
        "                    # que a, donde cada posición de bool_idx dice\n",
        "                    # si el elemento de a es > 2.\n",
        "\n",
        "print (bool_idx)"
      ],
      "execution_count": null,
      "outputs": []
    },
    {
      "metadata": {
        "id": "rRvDJXN25q5z"
      },
      "cell_type": "code",
      "source": [
        "# Podemos usar el array de booleanos del ejemplo anterior, para construir un array\n",
        "# que consista de los elementos de a que sean True en bool_idx\n",
        "print (a[bool_idx])\n",
        "\n",
        "# Se puede hacer todo lo anterior con un solo comando:\n",
        "print (a[a > 2])"
      ],
      "execution_count": null,
      "outputs": []
    },
    {
      "metadata": {
        "id": "Xp-dmhK55q51"
      },
      "cell_type": "markdown",
      "source": [
        "###Tipos de Datos"
      ]
    },
    {
      "metadata": {
        "id": "I1iAVr005q51"
      },
      "cell_type": "markdown",
      "source": [
        "Un array numpy es una grilla de elementos del mismo tipo. Numpy intenta adivinar el tipo de datos cuando se crea el array, pero opcionalmente también se le puede especificar el tipo de datos. Ejemplo:"
      ]
    },
    {
      "metadata": {
        "id": "Jhc1qiWe5q52"
      },
      "cell_type": "code",
      "source": [
        "x = np.array([1, 2])  # Numpy adivina el tipo de datos\n",
        "y = np.array([1.0, 2.0])  # Numpy adivina el tipo de datos\n",
        "z = np.array([1, 2], dtype=np.int64)  # Fuerza el tipo de datos\n",
        "\n",
        "print (x.dtype, y.dtype, z.dtype)"
      ],
      "execution_count": null,
      "outputs": []
    },
    {
      "metadata": {
        "id": "J0krzpaq5q54"
      },
      "cell_type": "markdown",
      "source": [
        "###Operaciones matemáticas en Numpy"
      ]
    },
    {
      "metadata": {
        "id": "MB1QONDf5q54"
      },
      "cell_type": "markdown",
      "source": [
        "Las funciones matemáticas básicas operan elemento a elemento en el array, y están disponibles tanto como sobrecarga de operadores, y como funciones del módulo numpy:"
      ]
    },
    {
      "metadata": {
        "id": "pqsjtRiM5q54"
      },
      "cell_type": "code",
      "source": [
        "x = np.array([[1,2],[3,4]], dtype=np.float64)\n",
        "y = np.array([[5,6],[7,8]], dtype=np.float64)\n",
        "\n",
        "# Suma elemento a elemento; son equivalentes.\n",
        "print (x + y)           # Sobrecarga de operador\n",
        "print (np.add(x, y))    # Función numpy"
      ],
      "execution_count": null,
      "outputs": []
    },
    {
      "metadata": {
        "id": "8lUHQNVL5q58"
      },
      "cell_type": "code",
      "source": [
        "# Resta elemento a elemento; son equivalentes.\n",
        "print (x - y)\n",
        "print (np.subtract(x, y))"
      ],
      "execution_count": null,
      "outputs": []
    },
    {
      "metadata": {
        "id": "IC8ctFQk5q59"
      },
      "cell_type": "code",
      "source": [
        "# Multiplicación elemento a elemento; son equivalentes.\n",
        "print (x * y)\n",
        "print (np.multiply(x, y))"
      ],
      "execution_count": null,
      "outputs": []
    },
    {
      "metadata": {
        "id": "XXtTacc-5q5_"
      },
      "cell_type": "code",
      "source": [
        "# División elemento a elemento; son equivalentes.\n",
        "# Producen el siguiente array:\n",
        "# [[ 0.2         0.33333333]\n",
        "#  [ 0.42857143  0.5       ]]\n",
        "print (x / y)\n",
        "print (np.divide(x, y))"
      ],
      "execution_count": null,
      "outputs": []
    },
    {
      "metadata": {
        "id": "f8mK4UbW5q6A"
      },
      "cell_type": "code",
      "source": [
        "# Raíz cuadrada elemento a elemento.\n",
        "# Produce el siguiente array:\n",
        "# [[ 1.          1.41421356]\n",
        "#  [ 1.73205081  2.        ]]\n",
        "print (np.sqrt(x))"
      ],
      "execution_count": null,
      "outputs": []
    },
    {
      "metadata": {
        "id": "gUaJRH_O5q6D"
      },
      "cell_type": "markdown",
      "source": [
        "Notar que `*` hace una multiplicación elemento a elemento. La función `dot` sirve para calcular productos internos de vectores, para multiplicar un vector por una matriz, y para multiplicar matrices. `dot` está disponible como una función del módulo numpy y como un método de instancia de los objetos array:"
      ]
    },
    {
      "metadata": {
        "id": "xpax7lRp5q6D"
      },
      "cell_type": "code",
      "source": [
        "x = np.array([[1,2],[3,4]])\n",
        "y = np.array([[5,6],[7,8]])\n",
        "\n",
        "v = np.array([9,10])\n",
        "w = np.array([11, 12])\n",
        "\n",
        "# Producto interno. Ambos producen 219\n",
        "print (v.dot(w))\n",
        "print (np.dot(v, w))"
      ],
      "execution_count": null,
      "outputs": []
    },
    {
      "metadata": {
        "id": "QadKUnk95q6E"
      },
      "cell_type": "code",
      "source": [
        "# Producto Matrix / vector; ambos producen el array [29 67]\n",
        "print (x.dot(v))\n",
        "print (np.dot(x, v))"
      ],
      "execution_count": null,
      "outputs": []
    },
    {
      "metadata": {
        "id": "sIb3tp555q6G"
      },
      "cell_type": "code",
      "source": [
        "# Producto matrix / matrix; ambos producen el array de rango 2\n",
        "# [[19 22]\n",
        "#  [43 50]]\n",
        "print (x.dot(y))\n",
        "print (np.dot(x, y))"
      ],
      "execution_count": null,
      "outputs": []
    },
    {
      "metadata": {
        "id": "IE5yrZG45q6H"
      },
      "cell_type": "markdown",
      "source": [
        "Numpy provee muchas funciones útiles para hacer cómputos en arrays; una de las más útiles es\n",
        "`sum`:"
      ]
    },
    {
      "metadata": {
        "id": "y5K4V28p5q6I"
      },
      "cell_type": "code",
      "source": [
        "x = np.array([[1,2],[3,4]])\n",
        "\n",
        "print (np.sum(x))  # Computa la suma de todos los elementos; imprime \"10\"\n",
        "print (np.sum(x, axis=0))  # Computa la suma de cada columna; imprime \"[4 6]\"\n",
        "print (np.sum(x, axis=1))  # Compute la suma de cada fila; imprime \"[3 7]\""
      ],
      "execution_count": null,
      "outputs": []
    },
    {
      "metadata": {
        "id": "TOEJPgkk5q6K"
      },
      "cell_type": "markdown",
      "source": [
        "Para transponer una matriz, usamos el atributo T del objeto array:"
      ]
    },
    {
      "metadata": {
        "id": "1NhZkHCm5q6K"
      },
      "cell_type": "code",
      "source": [
        "print (x)\n",
        "print (x.T)"
      ],
      "execution_count": null,
      "outputs": []
    },
    {
      "metadata": {
        "id": "GCCJQ-835q6M"
      },
      "cell_type": "code",
      "source": [
        "v = np.array([[1,2,3]])\n",
        "print (v)\n",
        "print (v.T)"
      ],
      "execution_count": null,
      "outputs": []
    },
    {
      "metadata": {
        "id": "KKs6Yd7ZVA8m"
      },
      "cell_type": "markdown",
      "source": [
        "La lista completa de funciones matemáticas de numpy se puede consultar en la [documentación](http://docs.scipy.org/doc/numpy/reference/routines.math.html)."
      ]
    },
    {
      "metadata": {
        "id": "98-AIk6u5q6O"
      },
      "cell_type": "markdown",
      "source": [
        "### Broadcasting"
      ]
    },
    {
      "metadata": {
        "id": "ihjioOGn5q6O"
      },
      "cell_type": "markdown",
      "source": [
        "Broadcasting es un mecanismo poderoso que nos permite operar con arrays de diferentes formas. Frecuentemente tenemos un array más pequeño y un array más grande, y queremos utilizar el array más pequeño múltiples veces para hacer alguna operación sobre el array más grande.\n",
        "\n",
        "Por ejemplo, supongamos que queremos sumar un vector constante a cada fila de una matriz:"
      ]
    },
    {
      "metadata": {
        "id": "DPtd0SVC5q6O"
      },
      "cell_type": "code",
      "source": [
        "# Sumaremos el vector v a cada fila de la matriz x,\n",
        "# almacenando el resultado en la matriz y\n",
        "x = np.array([[1,2,3], [4,5,6], [7,8,9], [10, 11, 12]])\n",
        "v = np.array([1, 0, 1])\n",
        "y = np.empty_like(x)   # Crea una matriz vacía de la misma forma que x\n",
        "\n",
        "# Suma el vector v a cada fila de la matriz x con un loop\n",
        "for i in range(4):\n",
        "    y[i, :] = x[i, :] + v\n",
        "\n",
        "print (y)"
      ],
      "execution_count": null,
      "outputs": []
    },
    {
      "metadata": {
        "id": "V6krlZtE5q6Q"
      },
      "cell_type": "markdown",
      "source": [
        "Lo anterior funciona; sin embargo, cuando la matriz `x` es muy grande, computar con un loop explícito en Pyton puede ser muy lento. Notar que sumar el vector v a cada fila de la matrix `x` es equivalente a formar una matrix `vv` apilando múltiples copias de `v`, y haciendo luego una suma elemento a elemento de `x` y `vv`:"
      ]
    },
    {
      "metadata": {
        "id": "iACv1y1O5q6R"
      },
      "cell_type": "code",
      "source": [
        "vv = np.tile(v, (4, 1))  # Apilamos 4 copias de v\n",
        "print (vv)               # Imprime \"[[1 0 1]\n",
        "                         #           [1 0 1]\n",
        "                         #           [1 0 1]\n",
        "                         #           [1 0 1]]\""
      ],
      "execution_count": null,
      "outputs": []
    },
    {
      "metadata": {
        "id": "e9VwkQ4v5q6S"
      },
      "cell_type": "code",
      "source": [
        "y = x + vv  # Suma x y vv elemento a elemento\n",
        "print (y)"
      ],
      "execution_count": null,
      "outputs": []
    },
    {
      "metadata": {
        "id": "SjJw6Plx5q6U"
      },
      "cell_type": "markdown",
      "source": [
        "El broadcasting de Numpy nos permite realizar todo este cómputo sin la necesidad de crear múltiples copias de v. Considere esta nueva versión, usando broadcasting:"
      ]
    },
    {
      "metadata": {
        "id": "CKBoLNJg5q6U"
      },
      "cell_type": "code",
      "source": [
        "import numpy as np\n",
        "\n",
        "# Sumaremos el vector v a cada fila de la matriz x,\n",
        "# almacenando el resultado en la matriz y\n",
        "x = np.array([[1,2,3], [4,5,6], [7,8,9], [10, 11, 12]])\n",
        "v = np.array([1, 0, 1])\n",
        "print (x.ndim, x.shape) # Rango y forma\n",
        "print (v.ndim, v.shape)\n",
        "y = x + v  # Suma v a cada fila de x usando broadcasting\n",
        "print (y)"
      ],
      "execution_count": null,
      "outputs": []
    },
    {
      "metadata": {
        "id": "3n0cLWAw5q6V"
      },
      "cell_type": "markdown",
      "source": [
        "El comando `y = x + v` funciona aunque `x` tenga forma `(4, 3)` y `v` tenga forma `(3,)` debido al broadcasting; este comando trabaja como si v tuviese la forma `(4, 3)`, donde cada fila es una copia de `v`, y la suma hubiese sido hecho elemento a elemento.\n",
        "\n",
        "Reglas del Broadcasting:\n",
        "\n",
        "1. Si los arrays no tienen el mismo rango, agrandar por adelante con 1s la forma del array de menor rango, hasta que ambos arrays tengan el mismo rango.\n",
        "2. Dos arrays son compatibles en una dimension, si ellos tienen el mismo tamaño en esa dimensión, o si uno de los arrays tiene tamaño 1 en esa dimensión.\n",
        "3. Los arrays pueden ser broadcasteados juntos si son compatibles en todas las dimensiones.\n",
        "4. Después del broadcasting, cada array se comporta como si tuviese forma igual al máximo elemento de las formas en cada una de las dimensiones de los dos arrays de entrada.\n",
        "5. En cualquier dimensión donde un array tuviese la forma 1 y el otro array tuviese forma mayor que 1, el primer array se comporta como si fuese copiado en esa dimensión.\n",
        "\n",
        "Si no les queda muy claro el tema del broadcasting, lean la [documentación](http://docs.scipy.org/doc/numpy/user/basics.broadcasting.html) o esta [explicación](http://wiki.scipy.org/EricsBroadcastingDoc).\n",
        "\n",
        "Las funciones que soportan broadcasting son conocidas como funciones universales. Pueden encontrar la lista de todas las funciones universales en la [documentación](http://docs.scipy.org/doc/numpy/reference/ufuncs.html#available-ufuncs).\n",
        "\n",
        "Algunas aplicaciones del broadcasting:"
      ]
    },
    {
      "metadata": {
        "id": "8lsu4IME5q6W"
      },
      "cell_type": "code",
      "source": [
        "# Computar el producto externo de vectores\n",
        "v = np.array([1,2,3])  # v tiene forma (3,) y rango 1\n",
        "w = np.array([4,5])    # w tiene forma (2,) y rango 1\n",
        "# Para computar el producto externo, primero cambiamos la forma de v a un vector\n",
        "# columna de forma (3, 1), y entonces su rango ahora será 2. Cuando hacemos el\n",
        "# broadcast contra w, w tiene rango 1. Entonces, como debe ser del mismo rango que v,\n",
        "# w agrega 1s por delante a su forma, para alcanzar el rango 2, y será de la forma (1,2).\n",
        "# Luego, ambos crecen para tener forma igual al máximo de los elementos en cada dimensión,\n",
        "# y entonces ambos tendrán forma (3,2). Luego, v y w hacen multiplicación elemento a elemento,\n",
        "# y se produce una salida de la forma (3, 2), que es el producto externo de v y w:\n",
        "\n",
        "print (np.reshape(v, (3, 1)) * w)"
      ],
      "execution_count": null,
      "outputs": []
    },
    {
      "metadata": {
        "id": "-orCUm6c5q6X"
      },
      "cell_type": "code",
      "source": [
        "# Agregar un vector a cada fila de una matriz\n",
        "x = np.array([[1,2,3], [4,5,6]])\n",
        "# x tiene forma (2, 3) y v tiene forma (3,) así que ellos broadcastean a (2, 3):\n",
        "\n",
        "print (x.shape)\n",
        "print(v.shape)\n",
        "print (x + v)"
      ],
      "execution_count": null,
      "outputs": []
    },
    {
      "metadata": {
        "id": "fAuY02dP5q6b"
      },
      "cell_type": "code",
      "source": [
        "# Sumar un vector a cada columna de una matriz\n",
        "# x tiene forma (2, 3) y w tiene forma (2,).\n",
        "# Si transponemos x entonces tendrá la forma (3, 2) and se puede hacer broadcast\n",
        "# contra w para producir un resultado de la forma (3, 2); transponiendo este resultado\n",
        "# se produce el resultado final de la forma (2, 3) que es la matriz x con el\n",
        "# vector w agregado a cada columna.\n",
        "\n",
        "print (x)\n",
        "print (w)\n",
        "print ((x.T + w).T)"
      ],
      "execution_count": null,
      "outputs": []
    },
    {
      "metadata": {
        "id": "hMzxU0GW5q6c"
      },
      "cell_type": "code",
      "source": [
        "# Otra solución es cambiar la forma de w a un vector fila de forma (2, 1);\n",
        "# podemos entonces broadcastearlo contra x para producir la misma salida.\n",
        "print (x + np.reshape(w, (2, 1)))"
      ],
      "execution_count": null,
      "outputs": []
    },
    {
      "metadata": {
        "id": "jGCfbEhK5q6d"
      },
      "cell_type": "code",
      "source": [
        "# Multiplicar una matriz por una constante:\n",
        "# x tiene forma (2, 3). Numpy trata escalares como arrays de forma ();\n",
        "# estos pueden ser broadcasteados a la forma (2, 3), produciendo el\n",
        "# siguiente array:\n",
        "print (x * 2)"
      ],
      "execution_count": null,
      "outputs": []
    },
    {
      "metadata": {
        "id": "4srkWKOE5q6f"
      },
      "cell_type": "markdown",
      "source": [
        "*Broadcasting* usualmente hace que el código sea más conciso y más rápido, así que úsenlo donde se pueda."
      ]
    },
    {
      "metadata": {
        "id": "vdNrBYZK5q6f"
      },
      "cell_type": "markdown",
      "source": [
        "Para saber más de numpy, chequeen la [documentación oficial de numpy](http://docs.scipy.org/doc/numpy/reference/)."
      ]
    },
    {
      "metadata": {
        "id": "UKm2hzgz5q6f"
      },
      "cell_type": "markdown",
      "source": [
        "##Matplotlib"
      ]
    },
    {
      "metadata": {
        "id": "VDFgGJz45q6g"
      },
      "cell_type": "markdown",
      "source": [
        "Matplotlib es una librería para graficar. En esta sección veremos una introducción al módulo `matplotlib.pyplot`."
      ]
    },
    {
      "metadata": {
        "id": "0bTVXB7L5q6g"
      },
      "cell_type": "code",
      "source": [
        "import matplotlib.pyplot as plt"
      ],
      "execution_count": null,
      "outputs": []
    },
    {
      "metadata": {
        "id": "ELWE3_9J5q6h"
      },
      "cell_type": "markdown",
      "source": [
        "Corriendo este comando especial de iPython, veremos los gráficos en el navegador del Jupyter notebook:"
      ]
    },
    {
      "metadata": {
        "id": "H0vjMgyu5q6h"
      },
      "cell_type": "code",
      "source": [
        "%matplotlib inline"
      ],
      "execution_count": null,
      "outputs": []
    },
    {
      "metadata": {
        "id": "EQMkKaNH5q6j"
      },
      "cell_type": "markdown",
      "source": [
        "###Graficando"
      ]
    },
    {
      "metadata": {
        "id": "biPNrc5O5q6j"
      },
      "cell_type": "markdown",
      "source": [
        "La función más importante en  `matplotlib` es plot, que permite graficar datos 2D. Ejemplo:"
      ]
    },
    {
      "metadata": {
        "id": "bw_DJK-E5q6j"
      },
      "cell_type": "code",
      "source": [
        "# Computa las coordenadas x, y para los puntos en una curva seno\n",
        "x = np.arange(0, 3 * np.pi, 0.1)\n",
        "y = np.sin(x)\n",
        "\n",
        "# Grafica los puntos usando matplotlib\n",
        "plt.plot(x, y)"
      ],
      "execution_count": null,
      "outputs": []
    },
    {
      "metadata": {
        "id": "7i9nqVNL5q6l"
      },
      "cell_type": "markdown",
      "source": [
        "Con un poco de trabajo extra, podemos graficar múltiples funciones a la vez, y agregar un título, una leyenda, y nombre a los ejes:"
      ]
    },
    {
      "metadata": {
        "id": "v96UGlPT5q6l"
      },
      "cell_type": "code",
      "source": [
        "y_cos = np.cos(x)\n",
        "\n",
        "# Grafica los puntos usando matplotlib\n",
        "plt.plot(x, y)\n",
        "plt.plot(x, y_cos)\n",
        "plt.xlabel('Eje x')\n",
        "plt.ylabel('Eje y')\n",
        "plt.title('Seno y Coseno')\n",
        "plt.legend(['Función Seno', 'Función Coseno'])"
      ],
      "execution_count": null,
      "outputs": []
    },
    {
      "metadata": {
        "id": "jJCY7j3Y5q6p"
      },
      "cell_type": "markdown",
      "source": [
        "###Gráficos compuestos"
      ]
    },
    {
      "metadata": {
        "id": "vPAoU6yZ5q6q"
      },
      "cell_type": "markdown",
      "source": [
        "Se pueden poner muchos gráficos en la misma figura usando la función subplot."
      ]
    },
    {
      "metadata": {
        "id": "Lhgz6eYq5q6q"
      },
      "cell_type": "code",
      "source": [
        "# Computa las coordenadas x, y para puntos en las curvas seno y coseno\n",
        "x = np.arange(0, 3 * np.pi, 0.1)\n",
        "y_sin = np.sin(x)\n",
        "y_cos = np.cos(x)\n",
        "\n",
        "# Hace una grilla de gráficos compuestos que tiene altura 2 y ancho 1,\n",
        "# y pone al primero de los subgráficos como activo.\n",
        "plt.subplot(2, 1, 1)\n",
        "\n",
        "# Dibuja el primer gráfico\n",
        "plt.plot(x, y_sin)\n",
        "plt.title('Seno')\n",
        "\n",
        "# Pone como activo el segundo subgráfico, y hace el segundo dibujo.\n",
        "plt.subplot(2, 1, 2)\n",
        "plt.plot(x, y_cos)\n",
        "plt.title('Coseno')\n",
        "\n",
        "# Muestra el gráfico.\n",
        "plt.show()"
      ],
      "execution_count": null,
      "outputs": []
    },
    {
      "metadata": {
        "id": "nCEH5MGI5q6s"
      },
      "cell_type": "markdown",
      "source": [
        "Para más detalles sobre la función `subplot` pueden leer la [documentación](http://matplotlib.org/api/pyplot_api.html#matplotlib.pyplot.subplot)."
      ]
    },
    {
      "metadata": {
        "id": "sXX7xJgIiCRl"
      },
      "cell_type": "code",
      "source": [],
      "execution_count": null,
      "outputs": []
    }
  ]
}